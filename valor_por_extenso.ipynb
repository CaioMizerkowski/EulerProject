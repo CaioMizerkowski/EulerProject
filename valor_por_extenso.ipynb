{
 "cells": [
  {
   "cell_type": "code",
   "execution_count": 1,
   "metadata": {},
   "outputs": [],
   "source": [
    "# Dicionarios utilizados para fazer a mágica acontecer\n",
    "# caso se precise mais do que decilhões de reais é porque já estamos atrassados na revolução\n",
    "# adicionar então os novos valores ao dicionario de multiplos\n",
    "unidades = {'0': False, '1': 'um', '2': 'dois', '3': 'três', '4': 'quatro', '5': 'cinco', '6': 'seis', '7': 'sete', '8': 'oito', '9': 'nove'}\n",
    "especiais = {'0': 'dez', '1': 'onze', '2': 'doze', '3': 'treze', '4': 'quatorze', '5': 'quinze', '6': 'dezesseis', '7': 'dezessete', '8': 'dezoito', '9': 'dezenove'}\n",
    "dezenas = {'0': False, '2': 'vinte', '3': 'trinta', '4': 'quarenta', '5': 'cinquenta', '6': 'sessenta', '7': 'setenta', '8': 'oitenta', '9': 'noventa'}\n",
    "centenas = {'0': False, '1': 'cento', '2': 'duzentos', '3': 'trezentos', '4': 'quatrocentos', '5': 'quinhentos', '6': 'seiscentos', '7': 'setecentos', '8': 'oitocentos', '9': 'novecentos'}\n",
    "multiplos = {0: '', 1: 'mil', 2: 'milhões', 3: 'bilhões', 4: 'trilhões', 5: 'quatrilhões', 6: 'quintilhões', 7: 'sextilhões', 8: 'setilhões', 9: 'octilhões', 10: 'nonilhões', 11: 'decilhões'}"
   ]
  },
  {
   "cell_type": "code",
   "execution_count": 2,
   "metadata": {},
   "outputs": [],
   "source": [
    "def dumb_conv(numero: str) -> tuple | None:\n",
    "    # Pattern matching para transformar os valores em textos individualmente\n",
    "    match list(numero):\n",
    "        case ['0']:\n",
    "            return 'zero',\n",
    "        \n",
    "        case ['1','0','0']:\n",
    "            return 'cem',\n",
    "        \n",
    "        case [centena, '1', unidade]:\n",
    "            return centenas[centena], especiais[unidade]\n",
    "            \n",
    "        case [unidade]:\n",
    "            return unidades[unidade],\n",
    "            \n",
    "        case ['1', unidade]:\n",
    "            return especiais[unidade],\n",
    "            \n",
    "        case [dezena, unidade]:\n",
    "            return dezenas[dezena], unidades[unidade]\n",
    "            \n",
    "        case [centena, dezena, unidade]:\n",
    "            return centenas[centena], dezenas[dezena], unidades[unidade]\n",
    "        \n",
    "        case __:\n",
    "            return None"
   ]
  },
  {
   "cell_type": "code",
   "execution_count": 3,
   "metadata": {},
   "outputs": [],
   "source": [
    "\n",
    "def add_e(valor: str) -> str | None:\n",
    "    # Pattern matching, para adicionar os 'e's corretamente\n",
    "    match valor:\n",
    "        case [unidade]:\n",
    "            return unidade\n",
    "\n",
    "        case [dezena, False]:\n",
    "            return dezena\n",
    "\n",
    "        case [dezena, unidade]:\n",
    "            return f\"{dezena} e {unidade}\"\n",
    "\n",
    "        case [centena, False, False]:\n",
    "            return centena\n",
    "        \n",
    "        case [centena, False, unidade]:\n",
    "            return f\"{centena} e {unidade}\"\n",
    "\n",
    "        case [centena, dezena, False]:\n",
    "            return f\"{centena} e {dezena}\"\n",
    "\n",
    "        case [centena, dezena, unidade]:\n",
    "            return f\"{centena} e {dezena} e {unidade}\"\n",
    "         \n",
    "        case __:\n",
    "            return None"
   ]
  },
  {
   "cell_type": "code",
   "execution_count": 4,
   "metadata": {},
   "outputs": [],
   "source": [
    "def split_real(real: str) -> tuple:\n",
    "    # Limpa os zeros à esquerda\n",
    "    real = real.lstrip('0')\n",
    "    # Pega os valores importantes\n",
    "    l = len(real)\n",
    "    m, d = l%3, l//3\n",
    "    # Separa a parte que não possui três casas decimais\n",
    "    head = real[:m].lstrip('0')\n",
    "    # Separa o resto da string em pedaços com três casas decimais\n",
    "    tail = [real[m+i*3:m+(i+1)*3].lstrip('0') for i in range(d)]\n",
    "    # Retorna o resultado separado de 3 em 3 casas decimais\n",
    "    return head, *tail"
   ]
  },
  {
   "cell_type": "code",
   "execution_count": 5,
   "metadata": {},
   "outputs": [],
   "source": [
    "def trunca_centavos(centavos: str) -> str:\n",
    "    if len(centavos)>2:\n",
    "        return centavos[:2]\n",
    "    return centavos"
   ]
  },
  {
   "cell_type": "code",
   "execution_count": 6,
   "metadata": {},
   "outputs": [],
   "source": [
    "def reverse_enumerate(l: list[any]) -> tuple[int, any]:\n",
    "    # simples enumerate com a ordem invertida\n",
    "    size = len(l)\n",
    "    for i in range(size-1, -1, -1):\n",
    "        yield i, l[size-i-1]"
   ]
  },
  {
   "cell_type": "code",
   "execution_count": 7,
   "metadata": {},
   "outputs": [],
   "source": [
    "def list2string(real: list, centavos: str = None) -> str:\n",
    "    l = []\n",
    "    # Adiciona os multiplos para os reais\n",
    "    for i, r in reverse_enumerate(real):\n",
    "        if r:\n",
    "            l.append(f\"{r} {multiplos[i]}\".strip())\n",
    "    l.append(\"reais\")\n",
    "    # Adiciona os centavos se existirem\n",
    "    if centavos:\n",
    "        l.append(f\"e {centavos} centavos\")\n",
    "    return ' '.join(l)"
   ]
  },
  {
   "cell_type": "code",
   "execution_count": 8,
   "metadata": {},
   "outputs": [],
   "source": [
    "def valor_por_extenso(valor: str|float|int) -> str:\n",
    "    # Separado centavo de real\n",
    "    valor = str(valor).split('.')\n",
    "    # Trata os reais\n",
    "    valor[0] = split_real(valor[0])\n",
    "    valor[0] = list(map(lambda v: add_e(dumb_conv(v)), valor[0]))\n",
    "    # Trata os centavos\n",
    "    valor[1] = add_e(dumb_conv(trunca_centavos(valor[1])))\n",
    "    # Converte para extenso\n",
    "    return list2string(*valor)"
   ]
  },
  {
   "cell_type": "code",
   "execution_count": 10,
   "metadata": {},
   "outputs": [
    {
     "data": {
      "text/plain": [
       "'novecentos e noventa e nove quintilhões cento e doze quatrilhões duzentos e trinta trilhões cinco milhões cem mil cento e dois reais e vinte e cinco centavos'"
      ]
     },
     "execution_count": 10,
     "metadata": {},
     "output_type": "execute_result"
    }
   ],
   "source": [
    "valor = '999112230000005100102.25'\n",
    "valor_por_extenso(valor)"
   ]
  },
  {
   "cell_type": "code",
   "execution_count": null,
   "metadata": {},
   "outputs": [],
   "source": []
  }
 ],
 "metadata": {
  "interpreter": {
   "hash": "337f31653d55614d460624929afd7126e454a2f71d7604f7a7344157ac4ab21c"
  },
  "kernelspec": {
   "display_name": "Python 3.10.4 64-bit ('TCC')",
   "language": "python",
   "name": "python3"
  },
  "language_info": {
   "codemirror_mode": {
    "name": "ipython",
    "version": 3
   },
   "file_extension": ".py",
   "mimetype": "text/x-python",
   "name": "python",
   "nbconvert_exporter": "python",
   "pygments_lexer": "ipython3",
   "version": "3.10.4"
  },
  "orig_nbformat": 4
 },
 "nbformat": 4,
 "nbformat_minor": 2
}
