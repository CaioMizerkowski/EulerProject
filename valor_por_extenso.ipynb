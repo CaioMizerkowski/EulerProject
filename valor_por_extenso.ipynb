{
 "cells": [
  {
   "cell_type": "code",
   "execution_count": 82,
   "metadata": {},
   "outputs": [],
   "source": [
    "unidades = {'0': False, '1': 'um', '2': 'dois', '3': 'três', '4': 'quatro', '5': 'cinco', '6': 'seis', '7': 'sete', '8': 'oito', '9': 'nove'}\n",
    "especiais = {'0': 'dez', '1': 'onze', '2': 'doze', '3': 'treze', '4': 'quatorze', '5': 'quinze', '6': 'dezesseis', '7': 'dezessete', '8': 'dezoito', '9': 'dezenove'}\n",
    "dezenas = {'0': False, '2': 'vinte', '3': 'trinta', '4': 'quarenta', '5': 'cinquenta', '6': 'sessenta', '7': 'setenta', '8': 'oitenta', '9': 'noventa'}\n",
    "centenas = {'0': False, '1': 'cento', '2': 'duzentos', '3': 'trezentos', '4': 'quatrocentos', '5': 'quinhentos', '6': 'seiscentos', '7': 'setecentos', '8': 'oitocentos', '9': 'novecentos'}\n",
    "multiplos = {0: '', 1: 'mil', 2: 'milhões', 3: 'bilhões', 4: 'trilhões', 5: 'quatrilhões', 6: 'quintilhões', 7: 'sextilhões', 8: 'setilhões', 9: 'octilhões', 10: 'nonilhões', 11: 'decilhões'}"
   ]
  },
  {
   "cell_type": "code",
   "execution_count": 83,
   "metadata": {},
   "outputs": [],
   "source": [
    "def dumb_conv(numero):\n",
    "    match list(numero):\n",
    "\n",
    "        case ['0']:\n",
    "            return 'zero',\n",
    "        \n",
    "        case ['1','0','0']:\n",
    "            return 'cem',\n",
    "        \n",
    "        case [centena, '1', unidade]:\n",
    "            return centenas[centena], especiais[unidade]\n",
    "            \n",
    "        case [unidade]:\n",
    "            return unidades[unidade],\n",
    "            \n",
    "        case ['1', unidade]:\n",
    "            return especiais[unidade],\n",
    "            \n",
    "        case [dezena, unidade]:\n",
    "            return dezenas[dezena], unidades[unidade]\n",
    "            \n",
    "        case [centena, dezena, unidade]:\n",
    "            return centenas[centena], dezenas[dezena], unidades[unidade]\n",
    "        \n",
    "        case __:\n",
    "            return None"
   ]
  },
  {
   "cell_type": "code",
   "execution_count": 84,
   "metadata": {},
   "outputs": [],
   "source": [
    "def split_real(real: str):\n",
    "    real = real.lstrip('0')\n",
    "    l = len(real)\n",
    "    m, d = l%3, l//3\n",
    "    head = real[:m].lstrip('0')\n",
    "    tail = [real[m+i*3:m+(i+1)*3].lstrip('0') for i in range(d)]\n",
    "    return head, *tail"
   ]
  },
  {
   "cell_type": "code",
   "execution_count": 85,
   "metadata": {},
   "outputs": [],
   "source": [
    "def trunca_centavos(centavos: str):\n",
    "    if len(centavos)>2:\n",
    "        return centavos[:2]\n",
    "    return centavos"
   ]
  },
  {
   "cell_type": "code",
   "execution_count": 86,
   "metadata": {},
   "outputs": [],
   "source": [
    "def add_e(valor):\n",
    "    match valor:\n",
    "\n",
    "        case [unidade]:\n",
    "            return unidade\n",
    "\n",
    "        case [dezena, False]:\n",
    "            return dezena\n",
    "\n",
    "        case [dezena, unidade]:\n",
    "            return f\"{dezena} e {unidade}\"\n",
    "\n",
    "        case [centena, False, False]:\n",
    "            return centena\n",
    "        \n",
    "        case [centena, False, unidade]:\n",
    "            return f\"{centena} e {unidade}\"\n",
    "\n",
    "        case [centena, dezena, False]:\n",
    "            return f\"{centena} e {dezena}\"\n",
    "\n",
    "        case [centena, dezena, unidade]:\n",
    "            return f\"{centena} e {dezena} e {unidade}\"\n",
    "         \n",
    "        case __:\n",
    "            return None"
   ]
  },
  {
   "cell_type": "code",
   "execution_count": 87,
   "metadata": {},
   "outputs": [
    {
     "name": "stdout",
     "output_type": "stream",
     "text": [
      "cento e dez\n"
     ]
    }
   ],
   "source": [
    "i = '110'\n",
    "print(add_e(dumb_conv(str(i))))"
   ]
  },
  {
   "cell_type": "code",
   "execution_count": 104,
   "metadata": {},
   "outputs": [],
   "source": [
    "def reverse_enumerate(l: list):\n",
    "    size = len(l)\n",
    "    for i in range(size-1, -1, -1):\n",
    "        yield i, l[size-i-1]\n",
    "    \n",
    "def list2string(real: list, centavos: str = None):\n",
    "    l = []\n",
    "    for i, r in reverse_enumerate(real):\n",
    "        if r:\n",
    "            l.append(f\"{r} {multiplos[i]}\".strip())\n",
    "    l.append(\"reais\")\n",
    "    if centavos:\n",
    "        l.append(f\"e {centavos} centavos\")\n",
    "    return ' '.join(l)"
   ]
  },
  {
   "cell_type": "code",
   "execution_count": 108,
   "metadata": {},
   "outputs": [],
   "source": [
    "def valor_por_extenso(valor: str|float|int):\n",
    "    valor = str(valor).split('.')\n",
    "    valor[0] = split_real(valor[0])\n",
    "    valor[0] = list(map(lambda v: add_e(dumb_conv(v)), valor[0]))\n",
    "    valor[1] = add_e(dumb_conv(trunca_centavos(valor[1])))\n",
    "    return list2string(*valor)"
   ]
  },
  {
   "cell_type": "code",
   "execution_count": 113,
   "metadata": {},
   "outputs": [
    {
     "name": "stdout",
     "output_type": "stream",
     "text": [
      "novecentos e noventa e nove tu é o bichões cento e doze quatrilhões duzentos e trinta trilhões cinco milhões cento e dois reais e vinte e cinco centavos\n"
     ]
    }
   ],
   "source": [
    "valor = '999112230000005000102.25'\n",
    "print(valor_por_extenso(valor))"
   ]
  },
  {
   "cell_type": "code",
   "execution_count": null,
   "metadata": {},
   "outputs": [],
   "source": []
  }
 ],
 "metadata": {
  "interpreter": {
   "hash": "337f31653d55614d460624929afd7126e454a2f71d7604f7a7344157ac4ab21c"
  },
  "kernelspec": {
   "display_name": "Python 3.10.4 64-bit ('TCC')",
   "language": "python",
   "name": "python3"
  },
  "language_info": {
   "codemirror_mode": {
    "name": "ipython",
    "version": 3
   },
   "file_extension": ".py",
   "mimetype": "text/x-python",
   "name": "python",
   "nbconvert_exporter": "python",
   "pygments_lexer": "ipython3",
   "version": "3.10.4"
  },
  "orig_nbformat": 4
 },
 "nbformat": 4,
 "nbformat_minor": 2
}
